{
 "cells": [
  {
   "cell_type": "markdown",
   "metadata": {},
   "source": [
    "# TP Recuit Simulé\n",
    "\n",
    "Binôme : \n",
    "- LARIBI Hakima\n",
    "- OULD TALEB Nada"
   ]
  },
  {
   "cell_type": "code",
   "execution_count": 14,
   "metadata": {},
   "outputs": [],
   "source": [
    "import matplotlib.pyplot as plt\n",
    "import numpy as np\n",
    "import scipy\n",
    "import scipy.stats as stats\n",
    "import math\n",
    "import random"
   ]
  },
  {
   "cell_type": "markdown",
   "metadata": {},
   "source": [
    "- Ici on va d'abord implémenter l'algorithme de Metropolis Hastings pour la distribution candidate Q tel que  :\n",
    "                        Q(y/x) = 1 si |x-y| < 1/2 ;\n",
    "                                 0 sinon\n",
    "- Il est facile de remarquer que pour Q(y/x) = 0 , nous aurons alpha = min {1, infini} = 1                               "
   ]
  },
  {
   "cell_type": "code",
   "execution_count": 15,
   "metadata": {},
   "outputs": [],
   "source": [
    "##Algorithme de Metropplis Hastings\n",
    "def MH(x,t,m):\n",
    "    for i in range(m):\n",
    "        #générer une uniforme sur [-0.5,0.5]\n",
    "        v=random.uniform(0,1)-0.5\n",
    "        \n",
    "        #Générer la variable Y = x + v\n",
    "        y=x+v\n",
    "        \n",
    "        #Q(y/x) = 1 si |y-x| < 0.5\n",
    "        #Q(y/x) = 0 Sinon;\n",
    "        if x-y<0.5 and x-y>-0.5:\n",
    "            alpha=min(1,np.exp((V(x)-V(y))/t))\n",
    "            u=random.uniform(0,1)\n",
    "            if(u<alpha):\n",
    "                x=y \n",
    "        else: #Q(y/x) = 0 ==> min(1,infini) = 1\n",
    "            x=y \n",
    "    return x"
   ]
  },
  {
   "cell_type": "markdown",
   "metadata": {},
   "source": [
    "Ici on implémentera le Recuit Simulé pour notre problème"
   ]
  },
  {
   "cell_type": "code",
   "execution_count": 16,
   "metadata": {},
   "outputs": [],
   "source": [
    "##Implémenter le Recuit Simulé\n",
    "def RS(a,b,n,m):\n",
    "    min_y=-1\n",
    "    #Générer X1 \n",
    "    u=random.uniform(0,1)\n",
    "    x=(b-a)*u+a\n",
    "    #Boucle principale du Recuit Simulé\n",
    "    for i in range(1,n):\n",
    "        #Mise à jour de la température\n",
    "        t=1/(1+np.log(i))\n",
    "        #Mise à jour de la valeur de X avec MH\n",
    "        x=MH(x,t,m)\n",
    "        #Mise à jour du minimum\n",
    "        if i==1 or V(x)<min_y:\n",
    "            min_y=V(x)\n",
    "            min_x=x\n",
    "    return (x,V(x)),(min_x,min_y) "
   ]
  },
  {
   "cell_type": "markdown",
   "metadata": {},
   "source": [
    "Ici on visualisera la fonction V(x) qu'on cherche à minimiser"
   ]
  },
  {
   "cell_type": "code",
   "execution_count": 17,
   "metadata": {},
   "outputs": [],
   "source": [
    "##Implémenter la fonction V(x)\n",
    "def V(x):\n",
    "    return (x**2)*(2+(np.sin(100*x))**2)"
   ]
  },
  {
   "cell_type": "code",
   "execution_count": 18,
   "metadata": {},
   "outputs": [
    {
     "data": {
      "image/png": "[encoded data removed]",
      "text/plain": [
       "<Figure size 432x288 with 1 Axes>"
      ]
     },
     "metadata": {
      "needs_background": "light"
     },
     "output_type": "display_data"
    }
   ],
   "source": [
    "#Visualiser la fonction V\n",
    "x = np.linspace(-40,40,100)\n",
    "plt.plot(x,V(x),color='#FF0023')\n",
    "plt.title('Representation graphique de la fonction V')\n",
    "plt.xlabel('X')\n",
    "plt.ylabel('V(X)')\n",
    "plt.show()"
   ]
  },
  {
   "cell_type": "markdown",
   "metadata": {},
   "source": [
    "Il est temps de tester à présent notre fonction du recuit simulé"
   ]
  },
  {
   "cell_type": "code",
   "execution_count": 20,
   "metadata": {},
   "outputs": [],
   "source": [
    "(X1,Y1),(Xmin,Ymin)=RS(-10,10,1001,1001)"
   ]
  },
  {
   "cell_type": "code",
   "execution_count": 22,
   "metadata": {},
   "outputs": [
    {
     "name": "stdout",
     "output_type": "stream",
     "text": [
      "Résultat de la dernière itération du recuit simulé (0.02241613985403157, 0.001313280508383121)\n",
      "Le minimum obtenu avec le recuit simulé (0.00021345345794709925, 9.114551357006558e-08)\n"
     ]
    }
   ],
   "source": [
    "print(\"Résultat de la dernière itération du recuit simulé\",(X1,Y1))\n",
    "print(\"Le minimum obtenu avec le recuit simulé\",(Xmin,Ymin))\n"
   ]
  },
  {
   "cell_type": "code",
   "execution_count": null,
   "metadata": {},
   "outputs": [],
   "source": []
  }
 ],
 "metadata": {
  "kernelspec": {
   "display_name": "Python 3",
   "language": "python",
   "name": "python3"
  },
  "language_info": {
   "codemirror_mode": {
    "name": "ipython",
    "version": 3
   },
   "file_extension": ".py",
   "mimetype": "text/x-python",
   "name": "python",
   "nbconvert_exporter": "python",
   "pygments_lexer": "ipython3",
   "version": "3.8.5"
  }
 },
 "nbformat": 4,
 "nbformat_minor": 4
}
